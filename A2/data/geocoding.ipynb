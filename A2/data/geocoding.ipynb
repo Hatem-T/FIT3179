{
 "cells": [
  {
   "cell_type": "code",
   "execution_count": 1,
   "id": "1e0eba42-a37b-4d5a-8f15-4180f2cf4d49",
   "metadata": {
    "tags": []
   },
   "outputs": [],
   "source": [
    "import pandas as pd\n",
    "import asyncio\n",
    "import aiohttp\n",
    "import nest_asyncio\n",
    "from geopy.geocoders import Nominatim\n",
    "import time\n",
    "import random\n",
    "\n",
    "# Allow nested asyncio loops\n",
    "nest_asyncio.apply()\n",
    "\n",
    "# Load your CSV file\n",
    "df = pd.read_csv('global_air_pollution_data.csv')"
   ]
  },
  {
   "cell_type": "code",
   "execution_count": 3,
   "id": "064ffc82-2d29-464a-8019-17e75abfa93a",
   "metadata": {
    "tags": []
   },
   "outputs": [
    {
     "name": "stdout",
     "output_type": "stream",
     "text": [
      "Attempt 1 failed for Praskoveya: Cannot connect to host nominatim.openstreetmap.org:443 ssl:default [Connect call failed ('184.104.226.109', 443)]\n",
      "Attempt 1 failed for Priolo Gargallo: Cannot connect to host nominatim.openstreetmap.org:443 ssl:default [Connect call failed ('184.104.226.109', 443)]\n",
      "Attempt 1 failed for Presidente Dutra: Cannot connect to host nominatim.openstreetmap.org:443 ssl:default [Connect call failed ('184.104.226.109', 443)]\n",
      "Attempt 1 failed for Punaauia: Cannot connect to host nominatim.openstreetmap.org:443 ssl:default [Connect call failed ('184.104.226.109', 443)]\n",
      "Attempt 1 failed for Przasnysz: Cannot connect to host nominatim.openstreetmap.org:443 ssl:default [Connect call failed ('184.104.226.109', 443)]\n",
      "Attempt 1 failed for Punta Gorda: Cannot connect to host nominatim.openstreetmap.org:443 ssl:default [Connect call failed ('184.104.226.109', 443)]\n",
      "Attempt 1 failed for Puurs: Cannot connect to host nominatim.openstreetmap.org:443 ssl:default [Connect call failed ('184.104.226.109', 443)]\n",
      "Attempt 1 failed for Pyatigorsk: Cannot connect to host nominatim.openstreetmap.org:443 ssl:default [Connect call failed ('184.104.226.109', 443)]\n",
      "Attempt 1 failed for Puttlingen: Cannot connect to host nominatim.openstreetmap.org:443 ssl:default [Connect call failed ('184.104.226.109', 443)]\n",
      "Attempt 1 failed for Qalyub: Cannot connect to host nominatim.openstreetmap.org:443 ssl:default [Connect call failed ('184.104.226.109', 443)]\n",
      "Attempt 1 failed for Qinzhou: Cannot connect to host nominatim.openstreetmap.org:443 ssl:default [Connect call failed ('184.104.226.109', 443)]\n",
      "Attempt 1 failed for Radaur: Cannot connect to host nominatim.openstreetmap.org:443 ssl:default [Connect call failed ('184.104.226.109', 443)]\n",
      "Attempt 1 failed for Radhan: Cannot connect to host nominatim.openstreetmap.org:443 ssl:default [Connect call failed ('184.104.226.109', 443)]\n",
      "Attempt 1 failed for Radovis: Cannot connect to host nominatim.openstreetmap.org:443 ssl:default [Connect call failed ('184.104.226.109', 443)]\n",
      "Attempt 1 failed for Raalte: Cannot connect to host nominatim.openstreetmap.org:443 ssl:default [Connect call failed ('184.104.226.109', 443)]\n",
      "Attempt 1 failed for Raismes: Cannot connect to host nominatim.openstreetmap.org:443 ssl:default [Connect call failed ('184.104.226.109', 443)]\n",
      "Attempt 1 failed for Rajgir: Cannot connect to host nominatim.openstreetmap.org:443 ssl:default [Connect call failed ('184.104.226.109', 443)]\n",
      "Attempt 1 failed for Phoenix: Cannot connect to host nominatim.openstreetmap.org:443 ssl:default [Connect call failed ('184.104.226.109', 443)]\n",
      "Attempt 1 failed for Ramacca: Cannot connect to host nominatim.openstreetmap.org:443 ssl:default [Connect call failed ('184.104.226.109', 443)]\n",
      "Attempt 1 failed for Phulabani: Cannot connect to host nominatim.openstreetmap.org:443 ssl:default [Connect call failed ('184.104.226.109', 443)]\n"
     ]
    },
    {
     "ename": "KeyboardInterrupt",
     "evalue": "",
     "output_type": "error",
     "traceback": [
      "\u001b[1;31m---------------------------------------------------------------------------\u001b[0m",
      "\u001b[1;31mKeyboardInterrupt\u001b[0m                         Traceback (most recent call last)",
      "Cell \u001b[1;32mIn[3], line 48\u001b[0m\n\u001b[0;32m     45\u001b[0m         df_cleaned\u001b[38;5;241m.\u001b[39mto_csv(\u001b[38;5;124m'\u001b[39m\u001b[38;5;124mcleaned_file.csv\u001b[39m\u001b[38;5;124m'\u001b[39m, index\u001b[38;5;241m=\u001b[39m\u001b[38;5;28;01mFalse\u001b[39;00m)\n\u001b[0;32m     47\u001b[0m \u001b[38;5;66;03m# Run the asynchronous main function\u001b[39;00m\n\u001b[1;32m---> 48\u001b[0m \u001b[43masyncio\u001b[49m\u001b[38;5;241;43m.\u001b[39;49m\u001b[43mrun\u001b[49m\u001b[43m(\u001b[49m\u001b[43mmain\u001b[49m\u001b[43m(\u001b[49m\u001b[43m)\u001b[49m\u001b[43m)\u001b[49m\n",
      "File \u001b[1;32m~\\anaconda3\\envs\\ECE4179_CUDA\\lib\\site-packages\\nest_asyncio.py:35\u001b[0m, in \u001b[0;36m_patch_asyncio.<locals>.run\u001b[1;34m(main, debug)\u001b[0m\n\u001b[0;32m     33\u001b[0m task \u001b[38;5;241m=\u001b[39m asyncio\u001b[38;5;241m.\u001b[39mensure_future(main)\n\u001b[0;32m     34\u001b[0m \u001b[38;5;28;01mtry\u001b[39;00m:\n\u001b[1;32m---> 35\u001b[0m     \u001b[38;5;28;01mreturn\u001b[39;00m \u001b[43mloop\u001b[49m\u001b[38;5;241;43m.\u001b[39;49m\u001b[43mrun_until_complete\u001b[49m\u001b[43m(\u001b[49m\u001b[43mtask\u001b[49m\u001b[43m)\u001b[49m\n\u001b[0;32m     36\u001b[0m \u001b[38;5;28;01mfinally\u001b[39;00m:\n\u001b[0;32m     37\u001b[0m     \u001b[38;5;28;01mif\u001b[39;00m \u001b[38;5;129;01mnot\u001b[39;00m task\u001b[38;5;241m.\u001b[39mdone():\n",
      "File \u001b[1;32m~\\anaconda3\\envs\\ECE4179_CUDA\\lib\\site-packages\\nest_asyncio.py:84\u001b[0m, in \u001b[0;36m_patch_loop.<locals>.run_until_complete\u001b[1;34m(self, future)\u001b[0m\n\u001b[0;32m     82\u001b[0m     f\u001b[38;5;241m.\u001b[39m_log_destroy_pending \u001b[38;5;241m=\u001b[39m \u001b[38;5;28;01mFalse\u001b[39;00m\n\u001b[0;32m     83\u001b[0m \u001b[38;5;28;01mwhile\u001b[39;00m \u001b[38;5;129;01mnot\u001b[39;00m f\u001b[38;5;241m.\u001b[39mdone():\n\u001b[1;32m---> 84\u001b[0m     \u001b[38;5;28;43mself\u001b[39;49m\u001b[38;5;241;43m.\u001b[39;49m\u001b[43m_run_once\u001b[49m\u001b[43m(\u001b[49m\u001b[43m)\u001b[49m\n\u001b[0;32m     85\u001b[0m     \u001b[38;5;28;01mif\u001b[39;00m \u001b[38;5;28mself\u001b[39m\u001b[38;5;241m.\u001b[39m_stopping:\n\u001b[0;32m     86\u001b[0m         \u001b[38;5;28;01mbreak\u001b[39;00m\n",
      "File \u001b[1;32m~\\anaconda3\\envs\\ECE4179_CUDA\\lib\\site-packages\\nest_asyncio.py:107\u001b[0m, in \u001b[0;36m_patch_loop.<locals>._run_once\u001b[1;34m(self)\u001b[0m\n\u001b[0;32m    100\u001b[0m     heappop(scheduled)\n\u001b[0;32m    102\u001b[0m timeout \u001b[38;5;241m=\u001b[39m (\n\u001b[0;32m    103\u001b[0m     \u001b[38;5;241m0\u001b[39m \u001b[38;5;28;01mif\u001b[39;00m ready \u001b[38;5;129;01mor\u001b[39;00m \u001b[38;5;28mself\u001b[39m\u001b[38;5;241m.\u001b[39m_stopping\n\u001b[0;32m    104\u001b[0m     \u001b[38;5;28;01melse\u001b[39;00m \u001b[38;5;28mmin\u001b[39m(\u001b[38;5;28mmax\u001b[39m(\n\u001b[0;32m    105\u001b[0m         scheduled[\u001b[38;5;241m0\u001b[39m]\u001b[38;5;241m.\u001b[39m_when \u001b[38;5;241m-\u001b[39m \u001b[38;5;28mself\u001b[39m\u001b[38;5;241m.\u001b[39mtime(), \u001b[38;5;241m0\u001b[39m), \u001b[38;5;241m86400\u001b[39m) \u001b[38;5;28;01mif\u001b[39;00m scheduled\n\u001b[0;32m    106\u001b[0m     \u001b[38;5;28;01melse\u001b[39;00m \u001b[38;5;28;01mNone\u001b[39;00m)\n\u001b[1;32m--> 107\u001b[0m event_list \u001b[38;5;241m=\u001b[39m \u001b[38;5;28;43mself\u001b[39;49m\u001b[38;5;241;43m.\u001b[39;49m\u001b[43m_selector\u001b[49m\u001b[38;5;241;43m.\u001b[39;49m\u001b[43mselect\u001b[49m\u001b[43m(\u001b[49m\u001b[43mtimeout\u001b[49m\u001b[43m)\u001b[49m\n\u001b[0;32m    108\u001b[0m \u001b[38;5;28mself\u001b[39m\u001b[38;5;241m.\u001b[39m_process_events(event_list)\n\u001b[0;32m    110\u001b[0m end_time \u001b[38;5;241m=\u001b[39m \u001b[38;5;28mself\u001b[39m\u001b[38;5;241m.\u001b[39mtime() \u001b[38;5;241m+\u001b[39m \u001b[38;5;28mself\u001b[39m\u001b[38;5;241m.\u001b[39m_clock_resolution\n",
      "File \u001b[1;32m~\\anaconda3\\envs\\ECE4179_CUDA\\lib\\selectors.py:324\u001b[0m, in \u001b[0;36mSelectSelector.select\u001b[1;34m(self, timeout)\u001b[0m\n\u001b[0;32m    322\u001b[0m ready \u001b[38;5;241m=\u001b[39m []\n\u001b[0;32m    323\u001b[0m \u001b[38;5;28;01mtry\u001b[39;00m:\n\u001b[1;32m--> 324\u001b[0m     r, w, _ \u001b[38;5;241m=\u001b[39m \u001b[38;5;28;43mself\u001b[39;49m\u001b[38;5;241;43m.\u001b[39;49m\u001b[43m_select\u001b[49m\u001b[43m(\u001b[49m\u001b[38;5;28;43mself\u001b[39;49m\u001b[38;5;241;43m.\u001b[39;49m\u001b[43m_readers\u001b[49m\u001b[43m,\u001b[49m\u001b[43m \u001b[49m\u001b[38;5;28;43mself\u001b[39;49m\u001b[38;5;241;43m.\u001b[39;49m\u001b[43m_writers\u001b[49m\u001b[43m,\u001b[49m\u001b[43m \u001b[49m\u001b[43m[\u001b[49m\u001b[43m]\u001b[49m\u001b[43m,\u001b[49m\u001b[43m \u001b[49m\u001b[43mtimeout\u001b[49m\u001b[43m)\u001b[49m\n\u001b[0;32m    325\u001b[0m \u001b[38;5;28;01mexcept\u001b[39;00m \u001b[38;5;167;01mInterruptedError\u001b[39;00m:\n\u001b[0;32m    326\u001b[0m     \u001b[38;5;28;01mreturn\u001b[39;00m ready\n",
      "File \u001b[1;32m~\\anaconda3\\envs\\ECE4179_CUDA\\lib\\selectors.py:315\u001b[0m, in \u001b[0;36mSelectSelector._select\u001b[1;34m(self, r, w, _, timeout)\u001b[0m\n\u001b[0;32m    314\u001b[0m \u001b[38;5;28;01mdef\u001b[39;00m \u001b[38;5;21m_select\u001b[39m(\u001b[38;5;28mself\u001b[39m, r, w, _, timeout\u001b[38;5;241m=\u001b[39m\u001b[38;5;28;01mNone\u001b[39;00m):\n\u001b[1;32m--> 315\u001b[0m     r, w, x \u001b[38;5;241m=\u001b[39m \u001b[43mselect\u001b[49m\u001b[38;5;241;43m.\u001b[39;49m\u001b[43mselect\u001b[49m\u001b[43m(\u001b[49m\u001b[43mr\u001b[49m\u001b[43m,\u001b[49m\u001b[43m \u001b[49m\u001b[43mw\u001b[49m\u001b[43m,\u001b[49m\u001b[43m \u001b[49m\u001b[43mw\u001b[49m\u001b[43m,\u001b[49m\u001b[43m \u001b[49m\u001b[43mtimeout\u001b[49m\u001b[43m)\u001b[49m\n\u001b[0;32m    316\u001b[0m     \u001b[38;5;28;01mreturn\u001b[39;00m r, w \u001b[38;5;241m+\u001b[39m x, []\n",
      "\u001b[1;31mKeyboardInterrupt\u001b[0m: "
     ]
    }
   ],
   "source": [
    "# Initialize the geocoder\n",
    "geolocator = Nominatim(user_agent=\"my_geocoder_app_v1\")\n",
    "\n",
    "# Cache for already retrieved cities\n",
    "cache = {}\n",
    "semaphore = asyncio.Semaphore(5)  # Limit to 5 concurrent requests\n",
    "\n",
    "# Asynchronous function to check if the name is an actual city\n",
    "async def is_actual_city(session, city_name, retries=3):\n",
    "    if city_name in cache:\n",
    "        return cache[city_name]\n",
    "\n",
    "    for attempt in range(retries):\n",
    "        try:\n",
    "            async with semaphore:  # Use the semaphore to limit concurrent requests\n",
    "                async with session.get(f'https://nominatim.openstreetmap.org/search?q={city_name}&format=json') as response:\n",
    "                    if response.status == 200:\n",
    "                        location = await response.json()\n",
    "                        if location:\n",
    "                            result = any('city' in item.get('type', '') for item in location)\n",
    "                            cache[city_name] = result\n",
    "                            return result\n",
    "                    break  # Break if successful\n",
    "        except Exception as e:\n",
    "            print(f\"Attempt {attempt + 1} failed for {city_name}: {e}\")\n",
    "            if attempt < retries - 1:\n",
    "                await asyncio.sleep(random.uniform(2, 5))  # Longer wait before retrying\n",
    "\n",
    "    cache[city_name] = False\n",
    "    return False\n",
    "\n",
    "async def main():\n",
    "    async with aiohttp.ClientSession() as session:\n",
    "        tasks = [is_actual_city(session, city) for city in df['city_name'].unique()]\n",
    "        results = await asyncio.gather(*tasks)\n",
    "\n",
    "        # Map results back to the DataFrame\n",
    "        city_results = dict(zip(df['city_name'].unique(), results))\n",
    "        df['Is_Actual_City'] = df['city_name'].map(city_results)\n",
    "\n",
    "        # Filter out rows where the city is not an actual city\n",
    "        df_cleaned = df[df['Is_Actual_City']].drop(columns=['Is_Actual_City'])\n",
    "\n",
    "        # Save the cleaned DataFrame to a new CSV\n",
    "        df_cleaned.to_csv('cleaned_file.csv', index=False)\n",
    "\n",
    "# Run the asynchronous main function\n",
    "asyncio.run(main())"
   ]
  },
  {
   "cell_type": "code",
   "execution_count": 3,
   "id": "6f0bdc58-0d1f-4e48-8b18-8d487c305f7d",
   "metadata": {},
   "outputs": [],
   "source": [
    "# unique_countries = df['country_name'].nunique()\n",
    "# print(f\"Number of unique countries: {unique_countries}\")\n",
    "\n",
    "# # Initialize the geocoder\n",
    "# geolocator = Nominatim(user_agent=\"Hatem2\")\n",
    "\n",
    "# # Cache for already retrieved coordinates\n",
    "# cache = {}\n",
    "\n",
    "# # Function to get lat/long with caching and rate limiting\n",
    "# def get_lat_long(country):\n",
    "#     if country in cache:\n",
    "#         return cache[country]\n",
    "    \n",
    "#     time.sleep(1)  # Rate limiting (1 request per second)\n",
    "    \n",
    "#     location = geolocator.geocode(country)\n",
    "#     if location:\n",
    "#         lat_long = (location.latitude, location.longitude)\n",
    "#         cache[country] = lat_long  # Store in cache\n",
    "#         return lat_long\n",
    "#     else:\n",
    "#         return None, None\n",
    "\n",
    "# # Apply function to the country column\n",
    "# df[['Latitude', 'Longitude']] = df['country_name'].apply(lambda x: pd.Series(get_lat_long(x)))\n",
    "\n",
    "# # Save to a new CSV\n",
    "# df.to_csv('updated_file.csv', index=False)"
   ]
  },
  {
   "cell_type": "code",
   "execution_count": null,
   "id": "91b42cba-45b3-45ba-8fa4-d75da62e298f",
   "metadata": {},
   "outputs": [],
   "source": []
  }
 ],
 "metadata": {
  "kernelspec": {
   "display_name": "Python 3 (ipykernel)",
   "language": "python",
   "name": "python3"
  },
  "language_info": {
   "codemirror_mode": {
    "name": "ipython",
    "version": 3
   },
   "file_extension": ".py",
   "mimetype": "text/x-python",
   "name": "python",
   "nbconvert_exporter": "python",
   "pygments_lexer": "ipython3",
   "version": "3.10.13"
  }
 },
 "nbformat": 4,
 "nbformat_minor": 5
}

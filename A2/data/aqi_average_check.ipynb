{
 "cells": [
  {
   "cell_type": "code",
   "execution_count": 5,
   "id": "09a22181-fef5-402c-ba7f-85c9a0e26dcd",
   "metadata": {
    "tags": []
   },
   "outputs": [
    {
     "name": "stdout",
     "output_type": "stream",
     "text": [
      "The file 'average_aqi_by_country_with_coordinates.csv' has been created successfully.\n"
     ]
    }
   ],
   "source": [
    "import pandas as pd\n",
    "\n",
    "# Load the CSV file\n",
    "data = pd.read_csv('global_air_pollution_data.csv')  # Replace 'your_file.csv' with the path to your CSV file\n",
    "\n",
    "# Ensure columns are correctly named; you might need to adjust these if they are different\n",
    "country_column = 'country_name'\n",
    "aqi_column = 'aqi_value'\n",
    "longitude_column = 'Longitude'\n",
    "latitude_column = 'Latitude'\n",
    "\n",
    "# Calculate the average AQI, longitude, and latitude for each country\n",
    "average_values_by_country = data.groupby(country_column).agg({\n",
    "    aqi_column: 'mean',\n",
    "    longitude_column: 'mean',  # Alternatively, you could use 'median'\n",
    "    latitude_column: 'mean'    # Alternatively, you could use 'median'\n",
    "}).reset_index()\n",
    "\n",
    "# Rename columns to match the desired output\n",
    "average_values_by_country.columns = ['country_name', 'avg_aqi_value', 'longitude', 'latitude']\n",
    "\n",
    "# Save the result to a new CSV file\n",
    "average_values_by_country.to_csv('average_aqi_by_country_with_coordinates.csv', index=False)\n",
    "\n",
    "# Print a success message\n",
    "print(\"The file 'average_aqi_by_country_with_coordinates.csv' has been created successfully.\")"
   ]
  },
  {
   "cell_type": "code",
   "execution_count": 2,
   "id": "7593a58b-b794-4664-a9a4-2a4e658a4a8d",
   "metadata": {},
   "outputs": [
    {
     "name": "stdout",
     "output_type": "stream",
     "text": [
      "Original number of rows: 23035\n",
      "Number of rows after filtering: 23034\n"
     ]
    },
    {
     "ename": "NameError",
     "evalue": "name 'output_file' is not defined",
     "output_type": "error",
     "traceback": [
      "\u001b[1;31m---------------------------------------------------------------------------\u001b[0m",
      "\u001b[1;31mNameError\u001b[0m                                 Traceback (most recent call last)",
      "Cell \u001b[1;32mIn[2], line 18\u001b[0m\n\u001b[0;32m     15\u001b[0m \u001b[38;5;66;03m# Save the filtered DataFrame to a new CSV file\u001b[39;00m\n\u001b[0;32m     16\u001b[0m filtered_df\u001b[38;5;241m.\u001b[39mto_csv(\u001b[38;5;124m'\u001b[39m\u001b[38;5;124mglobal_air_pollution_data_filtered.csv\u001b[39m\u001b[38;5;124m'\u001b[39m, index\u001b[38;5;241m=\u001b[39m\u001b[38;5;28;01mFalse\u001b[39;00m)\n\u001b[1;32m---> 18\u001b[0m \u001b[38;5;28mprint\u001b[39m(\u001b[38;5;124mf\u001b[39m\u001b[38;5;124m'\u001b[39m\u001b[38;5;124mFiltered data saved to \u001b[39m\u001b[38;5;132;01m{\u001b[39;00moutput_file\u001b[38;5;132;01m}\u001b[39;00m\u001b[38;5;124m'\u001b[39m)\n",
      "\u001b[1;31mNameError\u001b[0m: name 'output_file' is not defined"
     ]
    }
   ],
   "source": [
    "import pandas as pd\n",
    "\n",
    "# Load the data from the CSV file into a DataFrame\n",
    "df = pd.read_csv('global_air_pollution_data.csv')\n",
    "\n",
    "# Display the original number of rows\n",
    "print(f'Original number of rows: {len(df)}')\n",
    "\n",
    "# Filter out rows where aqi_value is 500 and co_aqi_value is greater than 100\n",
    "filtered_df = df[~((df['aqi_value'] == 500) & (df['co_aqi_value'] > 100))]\n",
    "\n",
    "# Display the number of rows after filtering\n",
    "print(f'Number of rows after filtering: {len(filtered_df)}')\n",
    "\n",
    "# Save the filtered DataFrame to a new CSV file\n",
    "filtered_df.to_csv('global_air_pollution_data_filtered.csv', index=False)\n"
   ]
  },
  {
   "cell_type": "code",
   "execution_count": null,
   "id": "89c59c1d-f5ad-4b0a-a5d8-6ea33b5579b1",
   "metadata": {},
   "outputs": [],
   "source": []
  }
 ],
 "metadata": {
  "kernelspec": {
   "display_name": "Python 3 (ipykernel)",
   "language": "python",
   "name": "python3"
  },
  "language_info": {
   "codemirror_mode": {
    "name": "ipython",
    "version": 3
   },
   "file_extension": ".py",
   "mimetype": "text/x-python",
   "name": "python",
   "nbconvert_exporter": "python",
   "pygments_lexer": "ipython3",
   "version": "3.10.13"
  }
 },
 "nbformat": 4,
 "nbformat_minor": 5
}
